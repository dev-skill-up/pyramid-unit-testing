{
 "cells": [
  {
   "cell_type": "markdown",
   "metadata": {},
   "source": [
    "```{=latex}\n",
    "\\usepackage{hyperref}\n",
    "\\usepackage{graphicx}\n",
    "\\usepackage{listings}\n",
    "\\usepackage{textcomp}\n",
    "\\usepackage{fancyvrb}\n",
    "\n",
    "\\newcommand{\\passthrough}[1]{\\lstset{mathescape=false}#1\\lstset{mathescape=true}}\n",
    "\\newcommand{\\tightlist}{}\n",
    "```"
   ]
  },
  {
   "cell_type": "markdown",
   "metadata": {},
   "source": [
    "```{=latex}\n",
    "\\title{Unit Testing Your Web Application}\n",
    "\\author{Moshe Zadka -- https://cobordism.com}\n",
    "\\date{}\n",
    "\n",
    "\\begin{document}\n",
    "\\begin{titlepage}\n",
    "\\maketitle\n",
    "\\end{titlepage}\n",
    "\n",
    "\\frame{\\titlepage}\n",
    "```"
   ]
  },
  {
   "cell_type": "markdown",
   "metadata": {
    "tags": []
   },
   "source": [
    "```{=latex}\n",
    "\\begin{frame}\n",
    "\\frametitle{Acknowledgement of Country}\n",
    "\n",
    "Belmont (in San Francisco Bay Area Peninsula)\n",
    "\n",
    "Ancestral homeland of the Ramaytush Ohlone people\n",
    "\n",
    "\\end{frame}\n",
    "```"
   ]
  },
  {
   "cell_type": "markdown",
   "metadata": {
    "tags": []
   },
   "source": [
    "I live in Belmont,\n",
    "in the San Francisco Bay Area Peninsula.\n",
    "I wish to acknowledge it as the\n",
    "ancestral homeland\n",
    "of the\n",
    "Ramaytush Ohlone people."
   ]
  },
  {
   "cell_type": "markdown",
   "metadata": {},
   "source": [
    "```{=latex}\n",
    "\\end{document}\n",
    "```"
   ]
  }
 ],
 "metadata": {
  "kernelspec": {
   "display_name": "incident-retrospectives-as-code",
   "language": "python",
   "name": "incident-retrospectives-as-code-venv"
  },
  "language_info": {
   "codemirror_mode": {
    "name": "ipython",
    "version": 3
   },
   "file_extension": ".py",
   "mimetype": "text/x-python",
   "name": "python",
   "nbconvert_exporter": "python",
   "pygments_lexer": "ipython3",
   "version": "3.10.7"
  },
  "toc-autonumbering": false
 },
 "nbformat": 4,
 "nbformat_minor": 4
}
