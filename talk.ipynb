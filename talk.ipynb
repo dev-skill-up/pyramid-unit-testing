{
 "cells": [
  {
   "cell_type": "markdown",
   "metadata": {},
   "source": [
    "```{=latex}\n",
    "\\usepackage{hyperref}\n",
    "\\usepackage{graphicx}\n",
    "\\usepackage{listings}\n",
    "\\usepackage{textcomp}\n",
    "\\usepackage{fancyvrb}\n",
    "\n",
    "\\newcommand{\\passthrough}[1]{\\lstset{mathescape=false}#1\\lstset{mathescape=true}}\n",
    "\\newcommand{\\tightlist}{}\n",
    "```"
   ]
  },
  {
   "cell_type": "markdown",
   "metadata": {},
   "source": [
    "```{=latex}\n",
    "\\title{Unit Testing Your Web Application}\n",
    "\\author{Moshe Zadka -- https://cobordism.com}\n",
    "\\date{}\n",
    "\n",
    "\\begin{document}\n",
    "\\begin{titlepage}\n",
    "\\maketitle\n",
    "\\end{titlepage}\n",
    "\n",
    "\\frame{\\titlepage}\n",
    "```"
   ]
  },
  {
   "cell_type": "markdown",
   "metadata": {
    "tags": []
   },
   "source": [
    "```{=latex}\n",
    "\\begin{frame}\n",
    "\\frametitle{Acknowledgement of Country}\n",
    "\n",
    "Belmont (in San Francisco Bay Area Peninsula)\n",
    "\n",
    "Ancestral homeland of the Ramaytush Ohlone people\n",
    "\n",
    "\\end{frame}\n",
    "```"
   ]
  },
  {
   "cell_type": "markdown",
   "metadata": {
    "tags": []
   },
   "source": [
    "I live in Belmont,\n",
    "in the San Francisco Bay Area Peninsula.\n",
    "I wish to acknowledge it as the\n",
    "ancestral homeland\n",
    "of the\n",
    "Ramaytush Ohlone people."
   ]
  },
  {
   "cell_type": "code",
   "execution_count": 124,
   "metadata": {
    "tags": [
     "no_markdown"
    ]
   },
   "outputs": [],
   "source": [
    "import json\n",
    "import pyramid.response\n",
    "import pyramid.config\n",
    "import httpx\n",
    "from unittest import mock\n",
    "from hamcrest import assert_that, equal_to\n",
    "import io"
   ]
  },
  {
   "cell_type": "markdown",
   "metadata": {
    "tags": []
   },
   "source": [
    "```{=latex}\n",
    "\\begin{frame}\n",
    "\\frametitle{Outline}\n",
    "\n",
    "Intro to Pyramid \\pause\n",
    "\n",
    "What are Unit tests? \\pause\n",
    "\n",
    "What is httpx? \\pause\n",
    "\n",
    "Unit test examples! \\pause\n",
    "\n",
    "\\end{frame}\n",
    "```"
   ]
  },
  {
   "cell_type": "markdown",
   "metadata": {},
   "source": [
    "## Pyramid Example"
   ]
  },
  {
   "cell_type": "markdown",
   "metadata": {
    "tags": []
   },
   "source": [
    "```{=latex}\n",
    "\\begin{frame}\n",
    "\\frametitle{Crash Course in Pyramid}\n",
    "\n",
    "Some quick examples!\n",
    "\n",
    "\\end{frame}\n",
    "```"
   ]
  },
  {
   "cell_type": "markdown",
   "metadata": {},
   "source": [
    "### JSON Renderer"
   ]
  },
  {
   "cell_type": "markdown",
   "metadata": {
    "tags": []
   },
   "source": [
    "```{=latex}\n",
    "\\begin{frame}[fragile]\n",
    "\\frametitle{JSON View}\n",
    "```"
   ]
  },
  {
   "cell_type": "code",
   "execution_count": 165,
   "metadata": {},
   "outputs": [],
   "source": [
    "def jsonv(request):\n",
    "    return {}\n",
    "with pyramid.config.Configurator() as config:\n",
    "    config.add_route(\"json\", \"/json\")\n",
    "    config.add_view(jsonv, route_name=\"json\", renderer=\"json\")\n",
    "app = config.make_wsgi_app()"
   ]
  },
  {
   "cell_type": "markdown",
   "metadata": {
    "tags": []
   },
   "source": [
    "```{=latex}\n",
    "\\end{frame}\n",
    "```"
   ]
  },
  {
   "cell_type": "code",
   "execution_count": 166,
   "metadata": {
    "tags": [
     "no_markdown"
    ]
   },
   "outputs": [],
   "source": [
    "client = httpx.Client(app=app, base_url=\"https://example.com/\")"
   ]
  },
  {
   "cell_type": "markdown",
   "metadata": {
    "tags": []
   },
   "source": [
    "```{=latex}\n",
    "\\begin{frame}[fragile]\n",
    "\\frametitle{JSON View Retrieval}\n",
    "```"
   ]
  },
  {
   "cell_type": "code",
   "execution_count": 167,
   "metadata": {
    "tags": []
   },
   "outputs": [
    {
     "data": {
      "text/plain": [
       "{}"
      ]
     },
     "execution_count": 167,
     "metadata": {},
     "output_type": "execute_result"
    }
   ],
   "source": [
    "request = client.get(\"/json\")\n",
    "request.json()"
   ]
  },
  {
   "cell_type": "markdown",
   "metadata": {
    "tags": []
   },
   "source": [
    "```{=latex}\n",
    "\\end{frame}\n",
    "```"
   ]
  },
  {
   "cell_type": "markdown",
   "metadata": {},
   "source": [
    "### Using Route Matches"
   ]
  },
  {
   "cell_type": "markdown",
   "metadata": {
    "tags": []
   },
   "source": [
    "```{=latex}\n",
    "\\begin{frame}[fragile]\n",
    "\\frametitle{Matcher View}\n",
    "```"
   ]
  },
  {
   "cell_type": "code",
   "execution_count": 168,
   "metadata": {},
   "outputs": [],
   "source": [
    "def matches(request):\n",
    "    return dict(name=request.matchdict[\"name\"])\n",
    "with pyramid.config.Configurator() as config:\n",
    "    config.add_route(\"matches\", \"/matches/{name}\")\n",
    "    config.add_view(matches, route_name=\"matches\", renderer=\"json\")\n",
    "app = config.make_wsgi_app()"
   ]
  },
  {
   "cell_type": "markdown",
   "metadata": {
    "tags": []
   },
   "source": [
    "```{=latex}\n",
    "\\end{frame}\n",
    "```"
   ]
  },
  {
   "cell_type": "code",
   "execution_count": 169,
   "metadata": {
    "tags": [
     "no_markdown"
    ]
   },
   "outputs": [],
   "source": [
    "client = httpx.Client(app=app, base_url=\"https://example.com/\")"
   ]
  },
  {
   "cell_type": "markdown",
   "metadata": {
    "tags": []
   },
   "source": [
    "```{=latex}\n",
    "\\begin{frame}[fragile]\n",
    "\\frametitle{Matcher View Retrieval}\n",
    "```"
   ]
  },
  {
   "cell_type": "code",
   "execution_count": 170,
   "metadata": {
    "tags": []
   },
   "outputs": [
    {
     "data": {
      "text/plain": [
       "{'name': 'hello'}"
      ]
     },
     "execution_count": 170,
     "metadata": {},
     "output_type": "execute_result"
    }
   ],
   "source": [
    "request = client.get(\"/matches/hello\")\n",
    "request.json()"
   ]
  },
  {
   "cell_type": "markdown",
   "metadata": {
    "tags": []
   },
   "source": [
    "```{=latex}\n",
    "\\end{frame}\n",
    "```"
   ]
  },
  {
   "cell_type": "markdown",
   "metadata": {},
   "source": [
    "### Using Settings"
   ]
  },
  {
   "cell_type": "markdown",
   "metadata": {
    "tags": []
   },
   "source": [
    "```{=latex}\n",
    "\\begin{frame}[fragile]\n",
    "\\frametitle{Settings View}\n",
    "```"
   ]
  },
  {
   "cell_type": "code",
   "execution_count": 171,
   "metadata": {},
   "outputs": [],
   "source": [
    "def setting(request):\n",
    "    return dict(field=request.registry.settings[\"field\"])\n",
    "with pyramid.config.Configurator(settings=dict(field=\"field_value\")) as config:\n",
    "    config.add_route(\"setting\", \"/setting\")\n",
    "    config.add_view(setting, route_name=\"setting\", renderer=\"json\")\n",
    "app = config.make_wsgi_app()"
   ]
  },
  {
   "cell_type": "markdown",
   "metadata": {
    "tags": []
   },
   "source": [
    "```{=latex}\n",
    "\\end{frame}\n",
    "```"
   ]
  },
  {
   "cell_type": "code",
   "execution_count": 172,
   "metadata": {
    "tags": [
     "no_markdown"
    ]
   },
   "outputs": [],
   "source": [
    "client = httpx.Client(app=app, base_url=\"https://example.com/\")"
   ]
  },
  {
   "cell_type": "markdown",
   "metadata": {
    "tags": []
   },
   "source": [
    "```{=latex}\n",
    "\\begin{frame}[fragile]\n",
    "\\frametitle{Settings View Retrieval}\n",
    "```"
   ]
  },
  {
   "cell_type": "code",
   "execution_count": 173,
   "metadata": {
    "tags": []
   },
   "outputs": [
    {
     "data": {
      "text/plain": [
       "{'field': 'field_value'}"
      ]
     },
     "execution_count": 173,
     "metadata": {},
     "output_type": "execute_result"
    }
   ],
   "source": [
    "request = client.get(\"/setting\")\n",
    "request.json()"
   ]
  },
  {
   "cell_type": "markdown",
   "metadata": {
    "tags": []
   },
   "source": [
    "```{=latex}\n",
    "\\end{frame}\n",
    "```"
   ]
  },
  {
   "cell_type": "markdown",
   "metadata": {
    "tags": []
   },
   "source": [
    "### Pyramid crash course review"
   ]
  },
  {
   "cell_type": "markdown",
   "metadata": {
    "tags": []
   },
   "source": [
    "```{=latex}\n",
    "\\begin{frame}[fragile]\n",
    "\\frametitle{View Function}\n",
    "```"
   ]
  },
  {
   "cell_type": "code",
   "execution_count": 276,
   "metadata": {},
   "outputs": [],
   "source": [
    "def lookup(\n",
    "    request: pyramid.request.Request\n",
    ") -> str:\n",
    "#    ^^^\n",
    "#    Will be jsonified\n",
    "    matcher = request.registry.settings[\"matcher\"] \n",
    "#             ^^^^^^^^^^^^^^^^^^^^^^^^^\n",
    "#             Access settings through request\n",
    "    name = request.matchdict[\"name\"]\n",
    "#          ^^^^^^^^^^^^^^^^^\n",
    "#          Get parameter from route\n",
    "    return matcher.get(name.lower(), \"default\")\n",
    "#          ^^^^^^^^^^^^^^^^^^^^^^^^^^^^^^^^^^^^\n",
    "#          Business logic"
   ]
  },
  {
   "cell_type": "markdown",
   "metadata": {
    "tags": []
   },
   "source": [
    "```{=latex}\n",
    "\\end{frame}\n",
    "```"
   ]
  },
  {
   "cell_type": "markdown",
   "metadata": {
    "tags": []
   },
   "source": [
    "```{=latex}\n",
    "\\begin{frame}[fragile]\n",
    "\\frametitle{Routing}\n",
    "```"
   ]
  },
  {
   "cell_type": "code",
   "execution_count": 277,
   "metadata": {},
   "outputs": [],
   "source": [
    "def include_lookup(config):\n",
    "    config.add_route(\"lookup\", \"/lookup/{name}\")\n",
    "#          ^^^^^^^^^|^^^^^^^   ^^^^^^^^^^^^^^^\n",
    "#          add a new|route    route path\n",
    "#          route    |name\n",
    "    config.add_view(lookup, route_name=\"lookup\", renderer=\"json\")\n",
    "#          ^^^^^^^^|^^^^^   ^^^^^^^^^^^^^^^^^^^  ^^^^^^^^^^^^^^^\n",
    "#          add a   |view    route to attach      Convert to a JSON response\n",
    "#          view to |callable\n",
    "#          a route |"
   ]
  },
  {
   "cell_type": "markdown",
   "metadata": {
    "tags": []
   },
   "source": [
    "```{=latex}\n",
    "\\end{frame}\n",
    "```"
   ]
  },
  {
   "cell_type": "markdown",
   "metadata": {
    "tags": []
   },
   "source": [
    "```{=latex}\n",
    "\\begin{frame}[fragile]\n",
    "\\frametitle{Configuration}\n",
    "```"
   ]
  },
  {
   "cell_type": "code",
   "execution_count": 278,
   "metadata": {},
   "outputs": [],
   "source": [
    "with pyramid.config.Configurator(\n",
    "#^^^ ^^^^^^^^^^^^^^^^^^^^^^^^^^^^^\n",
    "#Commit at the end      ^^^^^^^^^^\n",
    "#                       Configurator\n",
    "#                       class\n",
    "    settings=dict(matcher=dict(special=\"hello\")),\n",
    "#   ^^^^^^^^      ^^^^^^^ ^^^^^^^^^^^^^^^^^^^^^^\n",
    "#   settings      settings ^^^^^^^^^^^^^^^^^^^^^\n",
    "#                 key       Mapping \"special\"\n",
    "#                           name to \"hello\"\n",
    ") as config:\n",
    "#    ^^^^^^\n",
    "#    configurator\n",
    "#    object\n",
    "    include_lookup(config)"
   ]
  },
  {
   "cell_type": "markdown",
   "metadata": {
    "tags": []
   },
   "source": [
    "```{=latex}\n",
    "\\end{frame}\n",
    "```"
   ]
  },
  {
   "cell_type": "markdown",
   "metadata": {
    "tags": []
   },
   "source": [
    "```{=latex}\n",
    "\\begin{frame}[fragile]\n",
    "\\frametitle{App creation}\n",
    "```"
   ]
  },
  {
   "cell_type": "code",
   "execution_count": 279,
   "metadata": {},
   "outputs": [],
   "source": [
    "app = config.make_wsgi_app(\n",
    "#                 ^^^^\n",
    "#         Web Standard Gateway Interface\n",
    ")"
   ]
  },
  {
   "cell_type": "markdown",
   "metadata": {
    "tags": []
   },
   "source": [
    "```{=latex}\n",
    "\\end{frame}\n",
    "```"
   ]
  },
  {
   "cell_type": "code",
   "execution_count": 280,
   "metadata": {
    "tags": [
     "no_markdown"
    ]
   },
   "outputs": [
    {
     "data": {
      "text/plain": [
       "'hello'"
      ]
     },
     "execution_count": 280,
     "metadata": {},
     "output_type": "execute_result"
    }
   ],
   "source": [
    "client = httpx.Client(app=app, base_url=\"https://example.com/\")\n",
    "request = client.get(\"/lookup/SPECIAL\")\n",
    "request.json()"
   ]
  },
  {
   "cell_type": "markdown",
   "metadata": {},
   "source": [
    "## Unit Testing"
   ]
  },
  {
   "cell_type": "markdown",
   "metadata": {},
   "source": [
    "### What is a unit test?"
   ]
  },
  {
   "cell_type": "markdown",
   "metadata": {
    "tags": []
   },
   "source": [
    "```{=latex}\n",
    "\\begin{frame}\n",
    "\\frametitle{Unit test: rough definition}\n",
    "\n",
    "\\pause\n",
    "\n",
    "Runs the code\n",
    "\n",
    "\\pause\n",
    "\n",
    "Might fail on buggy code\n",
    "\n",
    "\\pause\n",
    "\n",
    "Self-contained\n",
    "\n",
    "\\end{frame}\n",
    "```"
   ]
  },
  {
   "cell_type": "markdown",
   "metadata": {},
   "source": [
    "### What is a mock?"
   ]
  },
  {
   "cell_type": "markdown",
   "metadata": {
    "tags": []
   },
   "source": [
    "```{=latex}\n",
    "\\begin{frame}\n",
    "\\frametitle{Mock}\n",
    "\n",
    "\\pause\n",
    "\n",
    "Fake object\n",
    "\n",
    "\\pause\n",
    "\n",
    "Configurable behavior\n",
    "\n",
    "\\pause\n",
    "\n",
    "Records access\n",
    "\n",
    "\\end{frame}\n",
    "```"
   ]
  },
  {
   "cell_type": "markdown",
   "metadata": {},
   "source": [
    "### Goal of unit test"
   ]
  },
  {
   "cell_type": "markdown",
   "metadata": {
    "tags": []
   },
   "source": [
    "```{=latex}\n",
    "\\begin{frame}\n",
    "\\frametitle{Good Unit Test}\n",
    "\n",
    "\\pause\n",
    "\n",
    "Avoid failing on valid: \\pause\n",
    "\n",
    "Public APIs \\pause\n",
    "\n",
    "Reduce assumptions\n",
    "\\end{frame}\n",
    "```"
   ]
  },
  {
   "cell_type": "markdown",
   "metadata": {},
   "source": [
    "### Patching as assumption"
   ]
  },
  {
   "cell_type": "markdown",
   "metadata": {
    "tags": []
   },
   "source": [
    "```{=latex}\n",
    "\\begin{frame}\n",
    "\\frametitle{Patch Makes Bad Unit Test}\n",
    "\n",
    "\\pause\n",
    "\n",
    "Patch: Temporarily replacing a global\n",
    "\n",
    "\\pause\n",
    "\n",
    "Assumption: Global used\n",
    "\n",
    "\\pause\n",
    "\n",
    "Assumption: Used through path\n",
    "\n",
    "\\end{frame}\n",
    "```"
   ]
  },
  {
   "cell_type": "markdown",
   "metadata": {},
   "source": [
    "### Parts of unit test"
   ]
  },
  {
   "cell_type": "markdown",
   "metadata": {
    "tags": []
   },
   "source": [
    "```{=latex}\n",
    "\\begin{frame}\n",
    "\\frametitle{Unit test anatomy}\n",
    "\n",
    "\\pause\n",
    "\n",
    "Set-up\n",
    "\n",
    "\\pause\n",
    "\n",
    "Execution\n",
    "\n",
    "\\pause\n",
    "\n",
    "Post-process \\pause\n",
    "(optional) \\pause\n",
    "\n",
    "Verification\n",
    "\n",
    "\\end{frame}\n",
    "```"
   ]
  },
  {
   "cell_type": "markdown",
   "metadata": {},
   "source": [
    "## Python Web Concepts"
   ]
  },
  {
   "cell_type": "markdown",
   "metadata": {},
   "source": [
    "### WSGI"
   ]
  },
  {
   "cell_type": "markdown",
   "metadata": {
    "tags": []
   },
   "source": [
    "```{=latex}\n",
    "\\begin{frame}[fragile]\n",
    "\\frametitle{WSGI}\n",
    "\n",
    "Framework \\pause\n",
    "\n",
    "to server\n",
    "\n",
    "\\end{frame}\n",
    "```"
   ]
  },
  {
   "cell_type": "markdown",
   "metadata": {},
   "source": [
    "### `httpx`"
   ]
  },
  {
   "cell_type": "markdown",
   "metadata": {
    "tags": []
   },
   "source": [
    "```{=latex}\n",
    "\\begin{frame}[fragile]\n",
    "\\frametitle{httpx}\n",
    "\n",
    "Requests alternative \\pause\n",
    "\n",
    "Can consume WSGI directly\n",
    "\\end{frame}\n",
    "```"
   ]
  },
  {
   "cell_type": "markdown",
   "metadata": {
    "tags": []
   },
   "source": [
    "```{=latex}\n",
    "\\begin{frame}[fragile]\n",
    "\\frametitle{httpx with WSGI}\n",
    "\n",
    "Creating the client: \\pause\n",
    "```"
   ]
  },
  {
   "cell_type": "code",
   "execution_count": 281,
   "metadata": {},
   "outputs": [],
   "source": [
    "client = httpx.Client(\n",
    "    base_url=\"https://example.com/\",\n",
    "    app=app,\n",
    ")"
   ]
  },
  {
   "cell_type": "markdown",
   "metadata": {
    "tags": []
   },
   "source": [
    "```{=latex}\n",
    "\\end{frame}\n",
    "```"
   ]
  },
  {
   "cell_type": "markdown",
   "metadata": {
    "tags": []
   },
   "source": [
    "```{=latex}\n",
    "\\begin{frame}[fragile]\n",
    "\\frametitle{httpx with WSGI}\n",
    "\n",
    "Calling the client: \\pause\n",
    "\n",
    "```"
   ]
  },
  {
   "cell_type": "code",
   "execution_count": 282,
   "metadata": {},
   "outputs": [],
   "source": [
    "request = client.get(\"/lookup/SPECIAL\")"
   ]
  },
  {
   "cell_type": "markdown",
   "metadata": {
    "tags": []
   },
   "source": [
    "```{=latex}\n",
    "\\end{frame}\n",
    "```"
   ]
  },
  {
   "cell_type": "markdown",
   "metadata": {
    "tags": []
   },
   "source": [
    "```{=latex}\n",
    "\\begin{frame}[fragile]\n",
    "\\frametitle{httpx with WSGI}\n",
    "\n",
    "Using the httpx request object: \\pause\n",
    "\n",
    "```"
   ]
  },
  {
   "cell_type": "code",
   "execution_count": 283,
   "metadata": {},
   "outputs": [
    {
     "data": {
      "text/plain": [
       "'hello'"
      ]
     },
     "execution_count": 283,
     "metadata": {},
     "output_type": "execute_result"
    }
   ],
   "source": [
    "request.json()"
   ]
  },
  {
   "cell_type": "markdown",
   "metadata": {
    "tags": []
   },
   "source": [
    "```{=latex}\n",
    "\\end{frame}\n",
    "```"
   ]
  },
  {
   "cell_type": "markdown",
   "metadata": {
    "tags": []
   },
   "source": [
    "## Unit test examples!"
   ]
  },
  {
   "cell_type": "markdown",
   "metadata": {},
   "source": [
    "### System under test"
   ]
  },
  {
   "cell_type": "markdown",
   "metadata": {
    "tags": []
   },
   "source": [
    "```{=latex}\n",
    "\\begin{frame}[fragile]\n",
    "\\frametitle{System Under Test: View}\n",
    "```"
   ]
  },
  {
   "cell_type": "code",
   "execution_count": 314,
   "metadata": {},
   "outputs": [],
   "source": [
    "def lookup(\n",
    "    request: pyramid.request.Request\n",
    ") -> str:\n",
    "    matcher = request.registry.settings[\"matcher\"] \n",
    "    name = request.matchdict[\"name\"]\n",
    "    return matcher.get(name, \"default\")\n",
    "#                      ^^^^^\n",
    "#                      Bug: missing .lower()"
   ]
  },
  {
   "cell_type": "markdown",
   "metadata": {
    "tags": []
   },
   "source": [
    "```{=latex}\n",
    "\\end{frame}\n",
    "```"
   ]
  },
  {
   "cell_type": "markdown",
   "metadata": {
    "tags": []
   },
   "source": [
    "```{=latex}\n",
    "\\begin{frame}[fragile]\n",
    "\\frametitle{System Under Test: App}\n",
    "```"
   ]
  },
  {
   "cell_type": "code",
   "execution_count": 315,
   "metadata": {},
   "outputs": [],
   "source": [
    "def make_app(special_value):\n",
    "#^^          ^^^^^^^^^^^^^\n",
    "#^^          Parameter for\n",
    "#            the application\n",
    "#Creating the app from a function,\n",
    "#not at top level\n",
    "    settings = dict(\n",
    "        matcher=dict(special=special_value),\n",
    "    )\n",
    "    with pyramid.config.Configurator(settings=settings) as config:\n",
    "        include_lookup(config)\n",
    "    return config.make_wsgi_app()"
   ]
  },
  {
   "cell_type": "markdown",
   "metadata": {
    "tags": []
   },
   "source": [
    "```{=latex}\n",
    "\\end{frame}\n",
    "```"
   ]
  },
  {
   "cell_type": "markdown",
   "metadata": {},
   "source": [
    "### Mocking Request"
   ]
  },
  {
   "cell_type": "markdown",
   "metadata": {
    "tags": []
   },
   "source": [
    "```{=latex}\n",
    "\\begin{frame}[fragile]\n",
    "\\frametitle{Calling function directly}\n",
    "\n",
    "Setup:\n",
    "\n",
    "```"
   ]
  },
  {
   "cell_type": "code",
   "execution_count": 316,
   "metadata": {},
   "outputs": [],
   "source": [
    "request = mock.MagicMock()\n",
    "request.registry.settings = dict(\n",
    "    matcher=dict(special=\"hello\"),\n",
    ")\n",
    "request.matchdict = dict(name=\"SPECIAL\")"
   ]
  },
  {
   "cell_type": "markdown",
   "metadata": {
    "tags": []
   },
   "source": [
    "```{=latex}\n",
    "\\end{frame}\n",
    "```"
   ]
  },
  {
   "cell_type": "markdown",
   "metadata": {
    "tags": []
   },
   "source": [
    "```{=latex}\n",
    "\\begin{frame}[fragile]\n",
    "\\frametitle{Calling function directly}\n",
    "\n",
    "Execute:\n",
    "```"
   ]
  },
  {
   "cell_type": "code",
   "execution_count": 317,
   "metadata": {},
   "outputs": [],
   "source": [
    "result = lookup(request)"
   ]
  },
  {
   "cell_type": "markdown",
   "metadata": {
    "tags": []
   },
   "source": [
    "```{=latex}\n",
    "\\end{frame}\n",
    "```"
   ]
  },
  {
   "cell_type": "markdown",
   "metadata": {
    "tags": []
   },
   "source": [
    "```{=latex}\n",
    "\\begin{frame}[fragile]\n",
    "\\frametitle{Calling function directly}\n",
    "\n",
    "Verification\n",
    "```"
   ]
  },
  {
   "cell_type": "code",
   "execution_count": 318,
   "metadata": {},
   "outputs": [
    {
     "name": "stdout",
     "output_type": "stream",
     "text": [
      "\n",
      "Expected: 'hello'\n",
      "     but: was 'default'\n",
      "\n"
     ]
    }
   ],
   "source": [
    "try:\n",
    "    assert_that(result, equal_to(\"hello\"))\n",
    "except AssertionError as exc:\n",
    "    print(exc)"
   ]
  },
  {
   "cell_type": "markdown",
   "metadata": {
    "tags": []
   },
   "source": [
    "```{=latex}\n",
    "\\end{frame}\n",
    "```"
   ]
  },
  {
   "cell_type": "markdown",
   "metadata": {},
   "source": [
    "### Calling WSGI"
   ]
  },
  {
   "cell_type": "markdown",
   "metadata": {
    "tags": []
   },
   "source": [
    "```{=latex}\n",
    "\\begin{frame}[fragile]\n",
    "\\frametitle{Calling WSGI}\n",
    "\n",
    "Setup:\n",
    "```"
   ]
  },
  {
   "cell_type": "code",
   "execution_count": 319,
   "metadata": {},
   "outputs": [],
   "source": [
    "environ = dict(\n",
    "    PATH_INFO=\"/lookup/SPECIAL\",\n",
    "    REQUEST_METHOD=\"GET\",\n",
    ")\n",
    "start_response = mock.MagicMock(\n",
    "    return_value=io.BytesIO()\n",
    ")"
   ]
  },
  {
   "cell_type": "markdown",
   "metadata": {
    "tags": []
   },
   "source": [
    "```{=latex}\n",
    "\\end{frame}\n",
    "```"
   ]
  },
  {
   "cell_type": "markdown",
   "metadata": {
    "tags": []
   },
   "source": [
    "```{=latex}\n",
    "\\begin{frame}[fragile]\n",
    "\\frametitle{Calling WSGI}\n",
    "\n",
    "Execute:\n",
    "```"
   ]
  },
  {
   "cell_type": "code",
   "execution_count": 320,
   "metadata": {},
   "outputs": [],
   "source": [
    "app = make_app(\"hello\")\n",
    "base_parts = app(environ, start_response)"
   ]
  },
  {
   "cell_type": "markdown",
   "metadata": {
    "tags": []
   },
   "source": [
    "```{=latex}\n",
    "\\end{frame}\n",
    "```"
   ]
  },
  {
   "cell_type": "markdown",
   "metadata": {
    "tags": []
   },
   "source": [
    "```{=latex}\n",
    "\\begin{frame}[fragile]\n",
    "\\frametitle{Calling WSGI}\n",
    "\n",
    "Post-process:\n",
    "```"
   ]
  },
  {
   "cell_type": "code",
   "execution_count": 321,
   "metadata": {},
   "outputs": [],
   "source": [
    "parts = [start_response.return_value.getvalue()]\n",
    "parts.extend(base_parts)\n",
    "(status, headers), kwargs = start_response.call_args\n",
    "result = json.loads(b\"\".join(parts).decode(\"utf-8\"))"
   ]
  },
  {
   "cell_type": "markdown",
   "metadata": {
    "tags": []
   },
   "source": [
    "```{=latex}\n",
    "\\end{frame}\n",
    "```"
   ]
  },
  {
   "cell_type": "markdown",
   "metadata": {
    "tags": []
   },
   "source": [
    "```{=latex}\n",
    "\\begin{frame}[fragile]\n",
    "\\frametitle{Calling WSGI}\n",
    "\n",
    "Verification\n",
    "```"
   ]
  },
  {
   "cell_type": "code",
   "execution_count": 322,
   "metadata": {},
   "outputs": [
    {
     "name": "stdout",
     "output_type": "stream",
     "text": [
      "\n",
      "Expected: 'hello'\n",
      "     but: was 'default'\n",
      "\n"
     ]
    }
   ],
   "source": [
    "try:\n",
    "    assert_that(result, equal_to(\"hello\"))\n",
    "except AssertionError as exc:\n",
    "    print(exc)"
   ]
  },
  {
   "cell_type": "markdown",
   "metadata": {
    "tags": []
   },
   "source": [
    "```{=latex}\n",
    "\\end{frame}\n",
    "```"
   ]
  },
  {
   "cell_type": "markdown",
   "metadata": {},
   "source": [
    "### Using `httpx`"
   ]
  },
  {
   "cell_type": "markdown",
   "metadata": {
    "tags": []
   },
   "source": [
    "```{=latex}\n",
    "\\begin{frame}[fragile]\n",
    "\\frametitle{Using httpx}\n",
    "\n",
    "Setup:\n",
    "```"
   ]
  },
  {
   "cell_type": "code",
   "execution_count": 323,
   "metadata": {},
   "outputs": [],
   "source": [
    "app = make_app(\"hello\")\n",
    "client = httpx.Client(\n",
    "    base_url=\"https://example.com/\",\n",
    "    app=app,\n",
    ")"
   ]
  },
  {
   "cell_type": "markdown",
   "metadata": {
    "tags": []
   },
   "source": [
    "```{=latex}\n",
    "\\end{frame}\n",
    "```"
   ]
  },
  {
   "cell_type": "markdown",
   "metadata": {
    "tags": []
   },
   "source": [
    "```{=latex}\n",
    "\\begin{frame}[fragile]\n",
    "\\frametitle{Using httpx}\n",
    "\n",
    "Execute:\n",
    "```"
   ]
  },
  {
   "cell_type": "code",
   "execution_count": 324,
   "metadata": {},
   "outputs": [],
   "source": [
    "resp = client.get(\"/lookup/SPECIAL\")"
   ]
  },
  {
   "cell_type": "markdown",
   "metadata": {
    "tags": []
   },
   "source": [
    "```{=latex}\n",
    "\\end{frame}\n",
    "```"
   ]
  },
  {
   "cell_type": "markdown",
   "metadata": {
    "tags": []
   },
   "source": [
    "```{=latex}\n",
    "\\begin{frame}[fragile]\n",
    "\\frametitle{Using httpx}\n",
    "\n",
    "Post-process:\n",
    "```"
   ]
  },
  {
   "cell_type": "code",
   "execution_count": 325,
   "metadata": {},
   "outputs": [],
   "source": [
    "result = resp.json()"
   ]
  },
  {
   "cell_type": "markdown",
   "metadata": {
    "tags": []
   },
   "source": [
    "```{=latex}\n",
    "\\end{frame}\n",
    "```"
   ]
  },
  {
   "cell_type": "markdown",
   "metadata": {
    "tags": []
   },
   "source": [
    "```{=latex}\n",
    "\\begin{frame}[fragile]\n",
    "\\frametitle{Using httpx}\n",
    "\n",
    "Verification:\n",
    "```"
   ]
  },
  {
   "cell_type": "code",
   "execution_count": 326,
   "metadata": {},
   "outputs": [
    {
     "name": "stdout",
     "output_type": "stream",
     "text": [
      "\n",
      "Expected: 'hello'\n",
      "     but: was 'default'\n",
      "\n"
     ]
    }
   ],
   "source": [
    "try:\n",
    "    assert_that(result, equal_to(\"hello\"))\n",
    "except AssertionError as exc:\n",
    "    print(exc)"
   ]
  },
  {
   "cell_type": "markdown",
   "metadata": {
    "tags": []
   },
   "source": [
    "```{=latex}\n",
    "\\end{frame}\n",
    "```"
   ]
  },
  {
   "cell_type": "markdown",
   "metadata": {},
   "source": [
    "## Summary"
   ]
  },
  {
   "cell_type": "markdown",
   "metadata": {},
   "source": [
    "### Pyramid: Concepts"
   ]
  },
  {
   "cell_type": "markdown",
   "metadata": {
    "tags": []
   },
   "source": [
    "```{=latex}\n",
    "\\begin{frame}\n",
    "\\frametitle{Summary: Pyramid}\n",
    "\n",
    "\\pause\n",
    "\n",
    "View: \\pause\n",
    "request, response, route \\pause\n",
    "\n",
    "Route: \\pause\n",
    "URL match \\pause\n",
    "\n",
    "Registry: \\pause\n",
    "Parameters, shared objects \\pause\n",
    "\n",
    "Configurator: \\pause\n",
    "Views, Routes, Registry \\pause\n",
    "\n",
    "WSGI: \\pause\n",
    "Configurator to server \\pause\n",
    "(or httpx!)\n",
    "\n",
    "\\end{frame}\n",
    "```"
   ]
  },
  {
   "cell_type": "markdown",
   "metadata": {},
   "source": [
    "### Unit Testing"
   ]
  },
  {
   "cell_type": "markdown",
   "metadata": {
    "tags": []
   },
   "source": [
    "```{=latex}\n",
    "\\begin{frame}\n",
    "\\frametitle{Summary: Unit Test}\n",
    "\n",
    "\\pause\n",
    "\n",
    "Verify code, \\pause\n",
    "quickly, \\pause\n",
    "and safely: \\pause\n",
    "\n",
    "Mock! \\pause\n",
    "\n",
    "Pre-plan \\pause\n",
    "\n",
    "Prefer stable APIs\n",
    "\n",
    "\\end{frame}\n",
    "```"
   ]
  },
  {
   "cell_type": "markdown",
   "metadata": {},
   "source": [
    "## Bonus material"
   ]
  },
  {
   "cell_type": "markdown",
   "metadata": {},
   "source": [
    "### Pyramid Concepts"
   ]
  },
  {
   "cell_type": "markdown",
   "metadata": {},
   "source": [
    "#### View"
   ]
  },
  {
   "cell_type": "markdown",
   "metadata": {
    "tags": []
   },
   "source": [
    "```{=latex}\n",
    "\\begin{frame}\n",
    "\\frametitle{View}\n",
    "\n",
    "Function \\pause\n",
    "\n",
    "Argument: Request \\pause\n",
    "\n",
    "Return value: Response\n",
    "\n",
    "\\end{frame}\n",
    "```"
   ]
  },
  {
   "cell_type": "markdown",
   "metadata": {
    "tags": []
   },
   "source": [
    "```{=latex}\n",
    "\\begin{frame}\n",
    "\\frametitle{View Route}\n",
    "\n",
    "Route \\pause\n",
    "\n",
    "to View \\pause\n",
    "\n",
    "\\end{frame}\n",
    "```"
   ]
  },
  {
   "cell_type": "markdown",
   "metadata": {
    "tags": []
   },
   "source": [
    "```{=latex}\n",
    "\\begin{frame}\n",
    "\\frametitle{View Route Predicates}\n",
    "\n",
    "Route to view can be conditional:\\pause\n",
    "\n",
    "Request type,\\pause\n",
    "\n",
    "Content type,\\pause\n",
    "\n",
    "Arbitrary predicates\n",
    "\n",
    "\\end{frame}\n",
    "```"
   ]
  },
  {
   "cell_type": "markdown",
   "metadata": {},
   "source": [
    "#### Route"
   ]
  },
  {
   "cell_type": "markdown",
   "metadata": {
    "tags": []
   },
   "source": [
    "```{=latex}\n",
    "\\begin{frame}\n",
    "\\frametitle{Route}\n",
    "\n",
    "Path \\pause\n",
    "\n",
    "to route name \\pause\n",
    "\n",
    "\\end{frame}\n",
    "```"
   ]
  },
  {
   "cell_type": "markdown",
   "metadata": {
    "tags": []
   },
   "source": [
    "```{=latex}\n",
    "\\begin{frame}\n",
    "\\frametitle{Route: advanced}\n",
    "\n",
    "\\pause\n",
    "\n",
    "Path fragment matching \\pause\n",
    "\n",
    "...and more\n",
    "\n",
    "\\end{frame}\n",
    "```"
   ]
  },
  {
   "cell_type": "markdown",
   "metadata": {},
   "source": [
    "#### Registry"
   ]
  },
  {
   "cell_type": "markdown",
   "metadata": {
    "tags": []
   },
   "source": [
    "```{=latex}\n",
    "\\begin{frame}\n",
    "\\frametitle{Registry: Application Parameters}\n",
    "\n",
    "\\pause\n",
    "\n",
    "Settings: ad-hoc dictionary\n",
    "\n",
    "\\end{frame}\n",
    "```"
   ]
  },
  {
   "cell_type": "markdown",
   "metadata": {},
   "source": [
    "#### Configurator"
   ]
  },
  {
   "cell_type": "markdown",
   "metadata": {
    "tags": []
   },
   "source": [
    "```{=latex}\n",
    "\\begin{frame}[fragile]\n",
    "\\frametitle{Configurator}\n",
    "\n",
    "Routes \\pause\n",
    "\n",
    "Views \\pause\n",
    "\n",
    "Registry \\pause\n",
    "\n",
    "\\end{frame}\n",
    "```"
   ]
  },
  {
   "cell_type": "markdown",
   "metadata": {},
   "source": [
    "### Routing extras"
   ]
  },
  {
   "cell_type": "markdown",
   "metadata": {
    "tags": []
   },
   "source": [
    "#### Static view"
   ]
  },
  {
   "cell_type": "markdown",
   "metadata": {
    "tags": []
   },
   "source": [
    "```{=latex}\n",
    "\\begin{frame}[fragile]\n",
    "\\frametitle{Static Value}\n",
    "```"
   ]
  },
  {
   "cell_type": "code",
   "execution_count": 310,
   "metadata": {},
   "outputs": [],
   "source": [
    "def empty(request):\n",
    "    return pyramid.response.Response(\n",
    "        json.dumps({}).encode(\"ascii\"),\n",
    "        content_type=\"application/json\",\n",
    "    )\n",
    "with pyramid.config.Configurator() as config:\n",
    "    config.add_route(\"root\", \"/\")\n",
    "    config.add_view(empty, route_name=\"root\")\n",
    "app = config.make_wsgi_app()"
   ]
  },
  {
   "cell_type": "markdown",
   "metadata": {
    "tags": []
   },
   "source": [
    "```{=latex}\n",
    "\\end{frame}\n",
    "```"
   ]
  },
  {
   "cell_type": "code",
   "execution_count": 311,
   "metadata": {
    "tags": [
     "no_markdown"
    ]
   },
   "outputs": [],
   "source": [
    "client = httpx.Client(app=app, base_url=\"https://example.com/\")"
   ]
  },
  {
   "cell_type": "markdown",
   "metadata": {
    "tags": []
   },
   "source": [
    "```{=latex}\n",
    "\\begin{frame}[fragile]\n",
    "\\frametitle{Static View Retrieval}\n",
    "```"
   ]
  },
  {
   "cell_type": "code",
   "execution_count": 312,
   "metadata": {
    "tags": []
   },
   "outputs": [
    {
     "data": {
      "text/plain": [
       "{}"
      ]
     },
     "execution_count": 312,
     "metadata": {},
     "output_type": "execute_result"
    }
   ],
   "source": [
    "request = client.get(\"/\")\n",
    "request.json()"
   ]
  },
  {
   "cell_type": "markdown",
   "metadata": {
    "tags": []
   },
   "source": [
    "```{=latex}\n",
    "\\end{frame}\n",
    "```"
   ]
  },
  {
   "cell_type": "markdown",
   "metadata": {},
   "source": [
    "#### Using Parameters"
   ]
  },
  {
   "cell_type": "markdown",
   "metadata": {
    "tags": []
   },
   "source": [
    "```{=latex}\n",
    "\\begin{frame}[fragile]\n",
    "\\frametitle{Parameter View}\n",
    "```"
   ]
  },
  {
   "cell_type": "code",
   "execution_count": 313,
   "metadata": {},
   "outputs": [],
   "source": [
    "def params(request):\n",
    "    return dict(thing=request.params[\"thing\"])\n",
    "with pyramid.config.Configurator() as config:\n",
    "    config.add_route(\"params\", \"/params\")\n",
    "    config.add_view(params, route_name=\"params\", renderer=\"json\")\n",
    "app = config.make_wsgi_app()"
   ]
  },
  {
   "cell_type": "markdown",
   "metadata": {
    "tags": []
   },
   "source": [
    "```{=latex}\n",
    "\\end{frame}\n",
    "```"
   ]
  },
  {
   "cell_type": "code",
   "execution_count": 299,
   "metadata": {
    "tags": [
     "no_markdown"
    ]
   },
   "outputs": [],
   "source": [
    "client = httpx.Client(app=app, base_url=\"https://example.com/\")"
   ]
  },
  {
   "cell_type": "markdown",
   "metadata": {
    "tags": []
   },
   "source": [
    "```{=latex}\n",
    "\\begin{frame}[fragile]\n",
    "\\frametitle{Parameter View Retrieval}\n",
    "```"
   ]
  },
  {
   "cell_type": "code",
   "execution_count": 300,
   "metadata": {
    "tags": []
   },
   "outputs": [
    {
     "data": {
      "text/plain": [
       "{'thing': 'hello'}"
      ]
     },
     "execution_count": 300,
     "metadata": {},
     "output_type": "execute_result"
    }
   ],
   "source": [
    "request = client.get(\"/params?thing=hello\")\n",
    "request.json()"
   ]
  },
  {
   "cell_type": "markdown",
   "metadata": {
    "tags": []
   },
   "source": [
    "```{=latex}\n",
    "\\end{frame}\n",
    "```"
   ]
  },
  {
   "cell_type": "markdown",
   "metadata": {},
   "source": [
    "#### Using Request Body"
   ]
  },
  {
   "cell_type": "markdown",
   "metadata": {
    "tags": []
   },
   "source": [
    "```{=latex}\n",
    "\\begin{frame}[fragile]\n",
    "\\frametitle{Body View}\n",
    "```"
   ]
  },
  {
   "cell_type": "code",
   "execution_count": 301,
   "metadata": {},
   "outputs": [],
   "source": [
    "def body(request):\n",
    "    return dict(field=request.json_body[\"field\"])\n",
    "with pyramid.config.Configurator() as config:\n",
    "    config.add_route(\"body\", \"/body\")\n",
    "    config.add_view(body, route_name=\"body\", renderer=\"json\")\n",
    "app = config.make_wsgi_app()"
   ]
  },
  {
   "cell_type": "markdown",
   "metadata": {
    "tags": []
   },
   "source": [
    "```{=latex}\n",
    "\\end{frame}\n",
    "```"
   ]
  },
  {
   "cell_type": "code",
   "execution_count": 302,
   "metadata": {
    "tags": [
     "no_markdown"
    ]
   },
   "outputs": [],
   "source": [
    "client = httpx.Client(app=app, base_url=\"https://example.com/\")"
   ]
  },
  {
   "cell_type": "markdown",
   "metadata": {
    "tags": []
   },
   "source": [
    "```{=latex}\n",
    "\\begin{frame}[fragile]\n",
    "\\frametitle{Body View Retrieval}\n",
    "```"
   ]
  },
  {
   "cell_type": "code",
   "execution_count": 303,
   "metadata": {
    "tags": []
   },
   "outputs": [
    {
     "data": {
      "text/plain": [
       "{'field': 'hello'}"
      ]
     },
     "execution_count": 303,
     "metadata": {},
     "output_type": "execute_result"
    }
   ],
   "source": [
    "request = client.post(\"/body\", json=dict(field=\"hello\"))\n",
    "request.json()"
   ]
  },
  {
   "cell_type": "markdown",
   "metadata": {
    "tags": []
   },
   "source": [
    "```{=latex}\n",
    "\\end{frame}\n",
    "```"
   ]
  },
  {
   "cell_type": "markdown",
   "metadata": {},
   "source": [
    "### Registry extras"
   ]
  },
  {
   "cell_type": "markdown",
   "metadata": {
    "tags": []
   },
   "source": [
    "```{=latex}\n",
    "\\begin{frame}\n",
    "\\frametitle{Registry: Application Parameters}\n",
    "\n",
    "\\pause\n",
    "\n",
    "Utility: Scalable configuration\n",
    "\n",
    "\n",
    "\\end{frame}\n",
    "```"
   ]
  },
  {
   "cell_type": "code",
   "execution_count": 304,
   "metadata": {
    "tags": [
     "no_markdown"
    ]
   },
   "outputs": [],
   "source": [
    "import zope.interface\n",
    "import attrs"
   ]
  },
  {
   "cell_type": "markdown",
   "metadata": {
    "tags": []
   },
   "source": [
    "```{=latex}\n",
    "\\begin{frame}[fragile]\n",
    "\\frametitle{Interfaces and Components}\n",
    "```"
   ]
  },
  {
   "cell_type": "code",
   "execution_count": 305,
   "metadata": {},
   "outputs": [],
   "source": [
    "class IValueGetter(zope.interface.Interface):\n",
    "    def get_value(self) -> int:\n",
    "        ...\n",
    "\n",
    "@zope.interface.implementer(IValueGetter)\n",
    "@attrs.frozen\n",
    "class ValueStorer:\n",
    "    _value: int\n",
    "    \n",
    "    def get_value(self):\n",
    "        return self._value"
   ]
  },
  {
   "cell_type": "markdown",
   "metadata": {
    "tags": []
   },
   "source": [
    "```{=latex}\n",
    "\\end{frame}\n",
    "```"
   ]
  },
  {
   "cell_type": "markdown",
   "metadata": {
    "tags": []
   },
   "source": [
    "```{=latex}\n",
    "\\begin{frame}[fragile]\n",
    "\\frametitle{Interface-based Registry}\n",
    "```"
   ]
  },
  {
   "cell_type": "code",
   "execution_count": 306,
   "metadata": {},
   "outputs": [
    {
     "data": {
      "text/plain": [
       "42"
      ]
     },
     "execution_count": 306,
     "metadata": {},
     "output_type": "execute_result"
    }
   ],
   "source": [
    "config = pyramid.config.Configurator()\n",
    "config.registry.registerUtility(ValueStorer(value=42))\n",
    "config.registry.getUtility(IValueGetter).get_value()"
   ]
  },
  {
   "cell_type": "markdown",
   "metadata": {
    "tags": []
   },
   "source": [
    "```{=latex}\n",
    "\\end{frame}\n",
    "```"
   ]
  },
  {
   "cell_type": "markdown",
   "metadata": {
    "tags": []
   },
   "source": [
    "```{=latex}\n",
    "\\begin{frame}[fragile]\n",
    "\\frametitle{Why Interface-based Registry?}\n",
    "\n",
    "Namespaced\\pause\n",
    "\n",
    "Semantically meaningful \\pause\n",
    "\n",
    "Configuration\n",
    "\n",
    "\\end{frame}\n",
    "```"
   ]
  },
  {
   "cell_type": "markdown",
   "metadata": {
    "tags": []
   },
   "source": [
    "### Configurator extras"
   ]
  },
  {
   "cell_type": "markdown",
   "metadata": {
    "tags": []
   },
   "source": [
    "```{=latex}\n",
    "\\begin{frame}[fragile]\n",
    "\\frametitle{Configurator Inclusion}\n",
    "```"
   ]
  },
  {
   "cell_type": "code",
   "execution_count": 307,
   "metadata": {},
   "outputs": [],
   "source": [
    "def root_stuff(config):\n",
    "    config.add_route(\"root\", \"/\")\n",
    "    config.add_view(empty, route_name=\"root\")    \n",
    "with pyramid.config.Configurator() as config:\n",
    "    config.include(root_stuff)\n",
    "    app = config.make_wsgi_app()"
   ]
  },
  {
   "cell_type": "code",
   "execution_count": 308,
   "metadata": {
    "tags": [
     "no_markdown"
    ]
   },
   "outputs": [],
   "source": [
    "client = httpx.Client(app=app, base_url=\"https://example.com/\")"
   ]
  },
  {
   "cell_type": "code",
   "execution_count": 309,
   "metadata": {
    "tags": []
   },
   "outputs": [
    {
     "data": {
      "text/plain": [
       "{}"
      ]
     },
     "execution_count": 309,
     "metadata": {},
     "output_type": "execute_result"
    }
   ],
   "source": [
    "request = client.get(\"/\")\n",
    "request.json()"
   ]
  },
  {
   "cell_type": "markdown",
   "metadata": {
    "tags": []
   },
   "source": [
    "```{=latex}\n",
    "\\end{frame}\n",
    "```"
   ]
  },
  {
   "cell_type": "markdown",
   "metadata": {
    "tags": []
   },
   "source": [
    "```{=latex}\n",
    "\\begin{frame}[fragile]\n",
    "\\frametitle{Configurator Inclusion}\n",
    "\n",
    "Include allows: \\pause\n",
    "\n",
    "\\begin{itemize}\n",
    "\\item Callable \\pause\n",
    "\\item Callable dotted name \\pause\n",
    "\\item Module (will use \"includeme\") \\pause\n",
    "\\item Module dotted name\n",
    "\\end{itemize}\n",
    "\n",
    "\\end{frame}\n",
    "```"
   ]
  },
  {
   "cell_type": "markdown",
   "metadata": {
    "tags": []
   },
   "source": [
    "### Scanning"
   ]
  },
  {
   "cell_type": "markdown",
   "metadata": {
    "tags": []
   },
   "source": [
    "```{=latex}\n",
    "\\begin{frame}[fragile]\n",
    "\\frametitle{Configurator Scanning}\n",
    "\n",
    "* Scan a package\n",
    "* Find functions decorated \"view config\"\n",
    "\n",
    "\\end{frame}\n",
    "```"
   ]
  },
  {
   "cell_type": "markdown",
   "metadata": {},
   "source": [
    "```{=latex}\n",
    "\\end{document}\n",
    "```"
   ]
  }
 ],
 "metadata": {
  "kernelspec": {
   "display_name": "pyramid-unit-testing",
   "language": "python",
   "name": "pyramid-unit-testing-venv"
  },
  "language_info": {
   "codemirror_mode": {
    "name": "ipython",
    "version": 3
   },
   "file_extension": ".py",
   "mimetype": "text/x-python",
   "name": "python",
   "nbconvert_exporter": "python",
   "pygments_lexer": "ipython3",
   "version": "3.10.7"
  },
  "toc-autonumbering": false
 },
 "nbformat": 4,
 "nbformat_minor": 4
}
