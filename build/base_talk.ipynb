{
 "cells": [
  {
   "cell_type": "markdown",
   "metadata": {},
   "source": [
    "```{=latex}\n",
    "\\usepackage{hyperref}\n",
    "\\usepackage{graphicx}\n",
    "\\usepackage{listings}\n",
    "\\usepackage{textcomp}\n",
    "\\usepackage{fancyvrb}\n",
    "\n",
    "\\newcommand{\\passthrough}[1]{\\lstset{mathescape=false}#1\\lstset{mathescape=true}}\n",
    "\\newcommand{\\tightlist}{}\n",
    "```"
   ]
  },
  {
   "cell_type": "markdown",
   "metadata": {},
   "source": [
    "```{=latex}\n",
    "\\title{Unit Testing Your Web Application}\n",
    "\\author{Moshe Zadka -- https://cobordism.com}\n",
    "\\date{}\n",
    "\n",
    "\\begin{document}\n",
    "\\begin{titlepage}\n",
    "\\maketitle\n",
    "\\end{titlepage}\n",
    "\n",
    "\\frame{\\titlepage}\n",
    "```"
   ]
  },
  {
   "cell_type": "markdown",
   "metadata": {
    "tags": []
   },
   "source": [
    "```{=latex}\n",
    "\\begin{frame}\n",
    "\\frametitle{Acknowledgement of Country}\n",
    "\n",
    "Belmont (in San Francisco Bay Area Peninsula)\n",
    "\n",
    "Ancestral homeland of the Ramaytush Ohlone people\n",
    "\n",
    "\\end{frame}\n",
    "```"
   ]
  },
  {
   "cell_type": "markdown",
   "metadata": {
    "tags": []
   },
   "source": [
    "I live in Belmont,\n",
    "in the San Francisco Bay Area Peninsula.\n",
    "I wish to acknowledge it as the\n",
    "ancestral homeland\n",
    "of the\n",
    "Ramaytush Ohlone people."
   ]
  },
  {
   "cell_type": "code",
   "execution_count": 17,
   "metadata": {
    "tags": [
     "no_markdown"
    ]
   },
   "outputs": [],
   "source": [
    "import json\n",
    "import pyramid.response\n",
    "import pyramid.config\n",
    "import httpx"
   ]
  },
  {
   "cell_type": "markdown",
   "metadata": {},
   "source": [
    "## Pyramid Example"
   ]
  },
  {
   "cell_type": "markdown",
   "metadata": {
    "tags": []
   },
   "source": [
    "### Static view"
   ]
  },
  {
   "cell_type": "markdown",
   "metadata": {
    "tags": []
   },
   "source": [
    "```{=latex}\n",
    "\\begin{frame}[fragile]\n",
    "\\frametitle{Static Value}\n",
    "```"
   ]
  },
  {
   "cell_type": "code",
   "execution_count": 19,
   "metadata": {},
   "outputs": [],
   "source": [
    "def empty(request):\n",
    "    return pyramid.response.Response(\n",
    "        json.dumps({}).encode(\"ascii\"),\n",
    "        content_type=\"application/json\",\n",
    "    )\n",
    "with pyramid.config.Configurator() as config:\n",
    "    config.add_route(\"root\", \"/\")\n",
    "    config.add_view(empty, route_name=\"root\")\n",
    "    app = config.make_wsgi_app()"
   ]
  },
  {
   "cell_type": "markdown",
   "metadata": {
    "tags": []
   },
   "source": [
    "```{=latex}\n",
    "\\end{frame}\n",
    "```"
   ]
  },
  {
   "cell_type": "code",
   "execution_count": 15,
   "metadata": {
    "tags": [
     "no_markdown"
    ]
   },
   "outputs": [],
   "source": [
    "client = httpx.Client(app=app, base_url=\"https://example.com/\")"
   ]
  },
  {
   "cell_type": "markdown",
   "metadata": {
    "tags": []
   },
   "source": [
    "```{=latex}\n",
    "\\begin{frame}[fragile]\n",
    "\\frametitle{Static View Retrieval}\n",
    "```"
   ]
  },
  {
   "cell_type": "code",
   "execution_count": 20,
   "metadata": {
    "tags": []
   },
   "outputs": [
    {
     "data": {
      "text/plain": [
       "{}"
      ]
     },
     "execution_count": 20,
     "metadata": {},
     "output_type": "execute_result"
    }
   ],
   "source": [
    "request = client.get(\"/\")\n",
    "request.json()"
   ]
  },
  {
   "cell_type": "markdown",
   "metadata": {
    "tags": []
   },
   "source": [
    "```{=latex}\n",
    "\\end{frame}\n",
    "```"
   ]
  },
  {
   "cell_type": "markdown",
   "metadata": {},
   "source": [
    "### JSON Renderer"
   ]
  },
  {
   "cell_type": "markdown",
   "metadata": {
    "tags": []
   },
   "source": [
    "```{=latex}\n",
    "\\begin{frame}[fragile]\n",
    "\\frametitle{JSON View}\n",
    "```"
   ]
  },
  {
   "cell_type": "code",
   "execution_count": 24,
   "metadata": {},
   "outputs": [],
   "source": [
    "def json(request):\n",
    "    return {}\n",
    "with pyramid.config.Configurator() as config:\n",
    "    config.add_route(\"root\", \"/\")\n",
    "    config.add_view(empty, route_name=\"root\")\n",
    "    config.add_route(\"json\", \"/json\")\n",
    "    config.add_view(json, route_name=\"json\", renderer=\"json\")\n",
    "    app = config.make_wsgi_app()"
   ]
  },
  {
   "cell_type": "markdown",
   "metadata": {
    "tags": []
   },
   "source": [
    "```{=latex}\n",
    "\\end{frame}\n",
    "```"
   ]
  },
  {
   "cell_type": "code",
   "execution_count": 25,
   "metadata": {
    "tags": [
     "no_markdown"
    ]
   },
   "outputs": [],
   "source": [
    "client = httpx.Client(app=app, base_url=\"https://example.com/\")"
   ]
  },
  {
   "cell_type": "markdown",
   "metadata": {
    "tags": []
   },
   "source": [
    "```{=latex}\n",
    "\\begin{frame}[fragile]\n",
    "\\frametitle{JSON View Retrieval}\n",
    "```"
   ]
  },
  {
   "cell_type": "code",
   "execution_count": 26,
   "metadata": {
    "tags": []
   },
   "outputs": [
    {
     "data": {
      "text/plain": [
       "{}"
      ]
     },
     "execution_count": 26,
     "metadata": {},
     "output_type": "execute_result"
    }
   ],
   "source": [
    "request = client.get(\"/json\")\n",
    "request.json()"
   ]
  },
  {
   "cell_type": "markdown",
   "metadata": {
    "tags": []
   },
   "source": [
    "```{=latex}\n",
    "\\end{frame}\n",
    "```"
   ]
  },
  {
   "cell_type": "markdown",
   "metadata": {},
   "source": [
    "### Using Parameters"
   ]
  },
  {
   "cell_type": "markdown",
   "metadata": {
    "tags": []
   },
   "source": [
    "```{=latex}\n",
    "\\begin{frame}[fragile]\n",
    "\\frametitle{Parameter View}\n",
    "```"
   ]
  },
  {
   "cell_type": "code",
   "execution_count": 27,
   "metadata": {},
   "outputs": [],
   "source": [
    "def params(request):\n",
    "    return dict(thing=request.params[\"thing\"])\n",
    "with pyramid.config.Configurator() as config:\n",
    "    config.add_route(\"root\", \"/\")\n",
    "    config.add_view(empty, route_name=\"root\")\n",
    "    config.add_route(\"json\", \"/json\")\n",
    "    config.add_view(json, route_name=\"json\", renderer=\"json\")\n",
    "    config.add_route(\"params\", \"/params\")\n",
    "    config.add_view(params, route_name=\"params\", renderer=\"json\")\n",
    "    app = config.make_wsgi_app()"
   ]
  },
  {
   "cell_type": "markdown",
   "metadata": {
    "tags": []
   },
   "source": [
    "```{=latex}\n",
    "\\end{frame}\n",
    "```"
   ]
  },
  {
   "cell_type": "code",
   "execution_count": 28,
   "metadata": {
    "tags": [
     "no_markdown"
    ]
   },
   "outputs": [],
   "source": [
    "client = httpx.Client(app=app, base_url=\"https://example.com/\")"
   ]
  },
  {
   "cell_type": "markdown",
   "metadata": {
    "tags": []
   },
   "source": [
    "```{=latex}\n",
    "\\begin{frame}[fragile]\n",
    "\\frametitle{Parameter View Retrieval}\n",
    "```"
   ]
  },
  {
   "cell_type": "code",
   "execution_count": 30,
   "metadata": {
    "tags": []
   },
   "outputs": [
    {
     "data": {
      "text/plain": [
       "{'thing': 'hello'}"
      ]
     },
     "execution_count": 30,
     "metadata": {},
     "output_type": "execute_result"
    }
   ],
   "source": [
    "request = client.get(\"/params?thing=hello\")\n",
    "request.json()"
   ]
  },
  {
   "cell_type": "markdown",
   "metadata": {
    "tags": []
   },
   "source": [
    "```{=latex}\n",
    "\\end{frame}\n",
    "```"
   ]
  },
  {
   "cell_type": "markdown",
   "metadata": {},
   "source": [
    "### Using Route Matches"
   ]
  },
  {
   "cell_type": "markdown",
   "metadata": {
    "tags": []
   },
   "source": [
    "```{=latex}\n",
    "\\begin{frame}[fragile]\n",
    "\\frametitle{Parameter View}\n",
    "```"
   ]
  },
  {
   "cell_type": "code",
   "execution_count": 31,
   "metadata": {},
   "outputs": [],
   "source": [
    "def matches(request):\n",
    "    return dict(name=request.matchdict[\"name\"])\n",
    "with pyramid.config.Configurator() as config:\n",
    "    config.add_route(\"root\", \"/\")\n",
    "    config.add_view(empty, route_name=\"root\")\n",
    "    config.add_route(\"json\", \"/json\")\n",
    "    config.add_view(json, route_name=\"json\", renderer=\"json\")\n",
    "    config.add_route(\"params\", \"/params\")\n",
    "    config.add_view(params, route_name=\"params\", renderer=\"json\")\n",
    "    config.add_route(\"matches\", \"/matches/{name}\")\n",
    "    config.add_view(matches, route_name=\"matches\", renderer=\"json\")\n",
    "    app = config.make_wsgi_app()"
   ]
  },
  {
   "cell_type": "markdown",
   "metadata": {
    "tags": []
   },
   "source": [
    "```{=latex}\n",
    "\\end{frame}\n",
    "```"
   ]
  },
  {
   "cell_type": "code",
   "execution_count": 32,
   "metadata": {
    "tags": [
     "no_markdown"
    ]
   },
   "outputs": [],
   "source": [
    "client = httpx.Client(app=app, base_url=\"https://example.com/\")"
   ]
  },
  {
   "cell_type": "markdown",
   "metadata": {
    "tags": []
   },
   "source": [
    "```{=latex}\n",
    "\\begin{frame}[fragile]\n",
    "\\frametitle{Parameter View Retrieval}\n",
    "```"
   ]
  },
  {
   "cell_type": "code",
   "execution_count": 33,
   "metadata": {
    "tags": []
   },
   "outputs": [
    {
     "data": {
      "text/plain": [
       "{'name': 'hello'}"
      ]
     },
     "execution_count": 33,
     "metadata": {},
     "output_type": "execute_result"
    }
   ],
   "source": [
    "request = client.get(\"/matches/hello\")\n",
    "request.json()"
   ]
  },
  {
   "cell_type": "markdown",
   "metadata": {
    "tags": []
   },
   "source": [
    "```{=latex}\n",
    "\\end{frame}\n",
    "```"
   ]
  },
  {
   "cell_type": "markdown",
   "metadata": {},
   "source": [
    "### Using Request Body"
   ]
  },
  {
   "cell_type": "markdown",
   "metadata": {
    "tags": []
   },
   "source": [
    "```{=latex}\n",
    "\\begin{frame}[fragile]\n",
    "\\frametitle{Body View}\n",
    "```"
   ]
  },
  {
   "cell_type": "code",
   "execution_count": 34,
   "metadata": {},
   "outputs": [],
   "source": [
    "def body(request):\n",
    "    return dict(field=request.json_body[\"field\"])\n",
    "with pyramid.config.Configurator() as config:\n",
    "    config.add_route(\"root\", \"/\")\n",
    "    config.add_view(empty, route_name=\"root\")\n",
    "    config.add_route(\"json\", \"/json\")\n",
    "    config.add_view(json, route_name=\"json\", renderer=\"json\")\n",
    "    config.add_route(\"params\", \"/params\")\n",
    "    config.add_view(params, route_name=\"params\", renderer=\"json\")\n",
    "    config.add_route(\"matches\", \"/matches/{name}\")\n",
    "    config.add_view(matches, route_name=\"matches\", renderer=\"json\")\n",
    "    config.add_route(\"body\", \"/body\")\n",
    "    config.add_view(body, route_name=\"body\", renderer=\"json\")\n",
    "    app = config.make_wsgi_app()"
   ]
  },
  {
   "cell_type": "markdown",
   "metadata": {
    "tags": []
   },
   "source": [
    "```{=latex}\n",
    "\\end{frame}\n",
    "```"
   ]
  },
  {
   "cell_type": "code",
   "execution_count": 35,
   "metadata": {
    "tags": [
     "no_markdown"
    ]
   },
   "outputs": [],
   "source": [
    "client = httpx.Client(app=app, base_url=\"https://example.com/\")"
   ]
  },
  {
   "cell_type": "markdown",
   "metadata": {
    "tags": []
   },
   "source": [
    "```{=latex}\n",
    "\\begin{frame}[fragile]\n",
    "\\frametitle{Body View Retrieval}\n",
    "```"
   ]
  },
  {
   "cell_type": "code",
   "execution_count": 37,
   "metadata": {
    "tags": []
   },
   "outputs": [
    {
     "data": {
      "text/plain": [
       "{'field': 'hello'}"
      ]
     },
     "execution_count": 37,
     "metadata": {},
     "output_type": "execute_result"
    }
   ],
   "source": [
    "request = client.post(\"/body\", json=dict(field=\"hello\"))\n",
    "request.json()"
   ]
  },
  {
   "cell_type": "markdown",
   "metadata": {
    "tags": []
   },
   "source": [
    "```{=latex}\n",
    "\\end{frame}\n",
    "```"
   ]
  },
  {
   "cell_type": "markdown",
   "metadata": {},
   "source": [
    "## Pyramid Concepts\n",
    "\n",
    "### View\n",
    "\n",
    "### Route\n",
    "\n",
    "### Configurator\n",
    "\n",
    "### Registry\n",
    "\n",
    "### Scanning\n",
    "\n",
    "## Python Web Concepts\n",
    "\n",
    "### WSGI\n",
    "\n",
    "### `httpx`\n",
    "\n",
    "## Unit Testing\n",
    "\n",
    "### Mocking Functions\n",
    "\n",
    "### Mocking Request\n",
    "\n",
    "### Calling WSGI\n",
    "\n",
    "### Using `httpx`\n",
    "\n",
    "## Summary\n",
    "\n",
    "### Pyramid: Concepts\n",
    "\n",
    "### Unit Testing: Why?\n",
    "\n",
    "### Unit Testing: How?"
   ]
  },
  {
   "cell_type": "markdown",
   "metadata": {},
   "source": [
    "```{=latex}\n",
    "\\end{document}\n",
    "```"
   ]
  }
 ],
 "metadata": {
  "kernelspec": {
   "display_name": "pyramid-unit-testing",
   "language": "python",
   "name": "pyramid-unit-testing-venv"
  },
  "language_info": {
   "codemirror_mode": {
    "name": "ipython",
    "version": 3
   },
   "file_extension": ".py",
   "mimetype": "text/x-python",
   "name": "python",
   "nbconvert_exporter": "python",
   "pygments_lexer": "ipython3",
   "version": "3.10.7"
  },
  "toc-autonumbering": false
 },
 "nbformat": 4,
 "nbformat_minor": 4
}
